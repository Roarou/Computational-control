{
  "nbformat": 4,
  "nbformat_minor": 0,
  "metadata": {
    "colab": {
      "provenance": [],
      "include_colab_link": true
    },
    "kernelspec": {
      "name": "python3",
      "display_name": "Python 3"
    },
    "language_info": {
      "name": "python"
    }
  },
  "cells": [
    {
      "cell_type": "markdown",
      "metadata": {
        "id": "view-in-github",
        "colab_type": "text"
      },
      "source": [
        "<a href=\"https://colab.research.google.com/github/Roarou/Computational-control/blob/main/COCO_T1.ipynb\" target=\"_parent\"><img src=\"https://colab.research.google.com/assets/colab-badge.svg\" alt=\"Open In Colab\"/></a>"
      ]
    },
    {
      "cell_type": "markdown",
      "source": [
        "# Computational control - Tutorial 1\n",
        "\n",
        "We illustrate how to solve convex optimization programs using the open source Python-embedded modeling language CVXPY ([link](https://www.cvxpy.org/index.html#)). \n",
        "\n",
        "We first look at a least squares problem and subsequently consider a constrained optimization problem. "
      ],
      "metadata": {
        "id": "JUAeWWcBNYOE"
      }
    },
    {
      "cell_type": "code",
      "source": [
        "# Package imports\n",
        "import cvxpy as cp              \n",
        "import numpy as np              \n",
        "import matplotlib.pyplot as plt \n",
        "from matplotlib.patches import Polygon\n",
        "plt.style.use('seaborn-white')   \n",
        "\n",
        "# Set random seed\n",
        "np.random.seed(1)\n",
        "# Set nice printing format\n",
        "np.set_printoptions(precision=3)"
      ],
      "metadata": {
        "id": "UYRmSrAhR1WM",
        "outputId": "79658db8-e43e-4306-cbac-1d904e1599ba",
        "colab": {
          "base_uri": "https://localhost:8080/"
        }
      },
      "execution_count": 1,
      "outputs": [
        {
          "output_type": "stream",
          "name": "stderr",
          "text": [
            "<ipython-input-1-bb72ba7b607c>:6: MatplotlibDeprecationWarning: The seaborn styles shipped by Matplotlib are deprecated since 3.6, as they no longer correspond to the styles shipped by seaborn. However, they will remain available as 'seaborn-v0_8-<style>'. Alternatively, directly use the seaborn API instead.\n",
            "  plt.style.use('seaborn-white')\n"
          ]
        }
      ]
    },
    {
      "cell_type": "markdown",
      "source": [
        "# Least squares problems\n",
        "\n",
        "A  _least squares problem_ is an optimization problem with no constraints \n",
        "and a cost function which is a sum of squares of affine terms in the unknown decision variable:\n",
        "\n",
        "$$  \n",
        "\\begin{equation} \\tag{LS}\n",
        "    \\begin{array}{ll}\n",
        "    \\mbox{minimize}   & \\lVert Ax - b \\rVert_2^2\n",
        "    \\end{array}\n",
        "\\end{equation}\n",
        "$$\n",
        "\n",
        "where $A \\in \\mathbb{R}^{m \\times n}$ and $b \\in \\mathbb{R}^m$  are problem data and $x \\in \\mathbb{R}^{n}$ is the decision variable.  \n",
        "\n",
        "Least squares problems are ubiquituous in the context of data fitting.  For example, consider the model\n",
        "\n",
        "$$\n",
        "y =Ax+ \\nu\n",
        "$$\n",
        "\n",
        "where $y \\in \\mathbb{R}^m$ is a vector of measurements, $x \\in \\mathbb{R}^{n}$ is a vector of parameters to be estimated, and $\\nu \\in \\mathbb{R}^m$ is measurement error that is unknown, but assumed to be small (in the norm $\\lVert \\, \\cdot \\, \\rVert_2$). In this context, it makes sense to pose the estimation problem as that of finding $x^* \\in \\mathbb{R}^{n}$ such that\n",
        "\n",
        "$$\n",
        "\\begin{equation}\n",
        "x^* \\in\n",
        "    \\begin{array}{ll}\n",
        "    \\arg\\mbox{min}   & \\lVert Ax - y \\rVert_2^2 .\n",
        "    \\end{array}\n",
        "\\end{equation}\n",
        "$$\n",
        "\n",
        "\n",
        "The number of measurements $m$ is usually much larger than the number of parameters $n,$ i.e. $m\\gg n$. Least squares problems can be therefore seen as a tool to approximate the solution of overdetermined systems, i.e. sets of equations in which there are more equations than unknowns."
      ],
      "metadata": {
        "id": "Z56RonEnTf2D"
      }
    },
    {
      "cell_type": "code",
      "source": [
        "# Parameters\n",
        "m = 15\n",
        "n = 10\n",
        "\n",
        "# Generate data\n",
        "A = np.random.randn(m, n)\n",
        "b = np.random.randn(m)\n",
        "\n",
        "# Variables\n",
        "x = cp.Variable(n)\n",
        "# Cost\n",
        "cost = cp.sum_squares(A @ x - b)\n",
        "# Constraints\n",
        "constraints = [];\n",
        "# Problem\n",
        "prob = cp.Problem(cp.Minimize(cost),constraints)\n",
        "# Solution\n",
        "prob.solve()\n",
        "\n",
        "# Print result\n",
        "print(\"\\nThe optimal value is\", prob.value)\n",
        "print(\"A solution is x =\",x.value)"
      ],
      "metadata": {
        "colab": {
          "base_uri": "https://localhost:8080/"
        },
        "id": "q4nGJpU0NNdt",
        "outputId": "1b337baf-d812-4a72-c24c-280d6800c63e"
      },
      "execution_count": 2,
      "outputs": [
        {
          "output_type": "stream",
          "name": "stdout",
          "text": [
            "\n",
            "The optimal value is 8.54198220092367\n",
            "A solution is x = [-0.178  0.338 -0.235  0.125 -0.425 -0.008 -0.244  0.191  0.193  0.113]\n"
          ]
        }
      ]
    },
    {
      "cell_type": "markdown",
      "source": [
        "### Constraints\n",
        "Constraints arise for a variety of reasons and can be naturally added to the basic least squares problem (LS). For example, constraints arise \n",
        "\n",
        "*   to rule out certain unacceptable approximations;\n",
        "*   to incorporate prior information about desired estimates;\n",
        "*   to encode information about the geometry of a problem.\n",
        "\n",
        "For example, consider the optimization problem\n",
        "\n",
        "$$  \n",
        "\\begin{equation} \\tag{LS-C}\n",
        "    \\begin{array}{ll}\n",
        "    \\mbox{minimize}   & \\lVert Ax - b \\rVert^2 \\\\\n",
        "    \\mbox{subject to} & \\lVert x \\rVert_\\infty  \\leq \\alpha.\n",
        "    \\end{array}\n",
        "\\end{equation}\n",
        "$$\n",
        "\n",
        "where $A \\in \\mathbb{R}^{m \\times n}$ and $b \\in \\mathbb{R}^m$  are problem data, $x \\in \\mathbb{R}^{n}$ is the decision variable, and $\\alpha >0$ is a user-defined parameter. \n",
        "\n",
        "The constraint $\\lVert x \\rVert_\\infty  \\leq \\alpha$ ensures that the solution $x$ is such that $-\\alpha \\le x_i \\le \\alpha.$\n",
        "\n",
        "\n",
        "### Regularization\n",
        "\n",
        "\n",
        "Regularization is another technique to incorporate prior information by adding extra terms to the cost function of the original problem.\n",
        "\n",
        "For example, the least squares problem (LS) can be regularized to find a solution $x$ that makes the residual $\\lVert Ax − b \\rVert$ small and is itself small, if possible. In particular, _Tikhonov regularization_ turns (LS) into the optimization problem\n",
        "\n",
        "$$  \n",
        "\\begin{equation} \\tag{LS-TR}\n",
        "    \\begin{array}{ll}\n",
        "    \\mbox{minimize}   & \\lVert Ax - b \\rVert_2^2 +\\lambda \\lVert x \\rVert_2^2 \n",
        "    \\end{array}\n",
        "\\end{equation}\n",
        "$$\n",
        "\n",
        "where $\\lambda >0 $ is a user-defined parameter.\n"
      ],
      "metadata": {
        "id": "3L14qLsiGcM1"
      }
    },
    {
      "cell_type": "markdown",
      "source": [
        "# Exercise 1\n",
        "\n",
        "Define and solve the optimization problems (LS-C) and (LS-TR) for given random data and parameters."
      ],
      "metadata": {
        "id": "GRsoX-B6SRWh"
      }
    },
    {
      "cell_type": "code",
      "source": [
        " # Parameters\n",
        "m = 15\n",
        "n = 2\n",
        "\n",
        "# Generate random data\n",
        "A = np.random.randn(m, n)\n",
        "b = np.random.randn(m)\n",
        "\n",
        "# Parameter\n",
        "Lambda = 10\n",
        "alpha = 1\n",
        "\n",
        "############################ Your code goes here ###############################\n",
        "\n",
        "# Variables\n",
        "x = cp.Variable(n)\n",
        "# Cost\n",
        "cost = cp.sum_squares(A @ x - b)  + Lambda*cp.norm(x,2)**2   # Add for (LS-TR) \n",
        "# Constraints\n",
        "constraints = [] # constraints += [cp.norm(x,'inf') <= alpha] # Add for (LS-C)\n",
        "# Problem\n",
        "prob = cp.Problem(cp.Minimize(cost),constraints)\n",
        "# Solution\n",
        "prob.solve()\n",
        "\n",
        "################################################################################\n",
        "\n",
        "# Print result\n",
        "print(\"A solution is x =\",x.value,\"\\n\")\n",
        "if constraints and np.linalg.norm(x.value,np.inf)<=alpha:\n",
        "  print(\"Constraints are satisfied\")\n",
        "print(\"\\nThe optimal value is\", prob.value,\"\\n\")\n",
        "\n",
        "# Visualize solution and constraint set in the 2D case if there are constraints \n",
        "if n ==2 and constraints:\n",
        "    print(\"Here's a plot showing the location of the solution:\\n\")\n",
        "    # Plot constraint set\n",
        "    fig, ax = plt.subplots() \n",
        "    ax.add_patch(Polygon([[-alpha,-alpha],\n",
        "                          [-alpha, alpha],\n",
        "                          [ alpha, alpha],\n",
        "                          [ alpha, -alpha]], \n",
        "                          closed=True,\n",
        "                          color= \"cornflowerblue\",\n",
        "                          fill=True))\n",
        "    # Plot solution\n",
        "    ax.plot(x.value[0], \n",
        "             x.value[1], \n",
        "             marker=\"o\", \n",
        "             markersize=7.5, \n",
        "             markeredgecolor=\"black\", \n",
        "             markerfacecolor=\"coral\") "
      ],
      "metadata": {
        "colab": {
          "base_uri": "https://localhost:8080/"
        },
        "id": "UcoKUSquUoys",
        "outputId": "420df4ca-8fb6-483b-858b-f3d25b03fb20"
      },
      "execution_count": 3,
      "outputs": [
        {
          "output_type": "stream",
          "name": "stdout",
          "text": [
            "A solution is x = [ 0.086 -0.01 ] \n",
            "\n",
            "\n",
            "The optimal value is 23.254679961545722 \n",
            "\n"
          ]
        }
      ]
    },
    {
      "cell_type": "markdown",
      "source": [
        "# Constrained optimization\n",
        "\n",
        "Consider the constrained optimization problem \n",
        "\n",
        "$$  \n",
        "\\begin{equation} \\tag{CO}\n",
        "    \\begin{array}{ll}\n",
        "    \\mbox{minimize}   & f(x) \\\\\n",
        "    \\mbox{subject to} & g(x) \\le 0\n",
        "    \\end{array}\n",
        "\\end{equation}\n",
        "$$\n",
        "\n",
        "with decision variable $x \\in \\mathbb{R}^2,$ cost function\n",
        "\n",
        "$$\n",
        "f(x) = \\left( x_1 -3/2\\right)^2 + \\left( x_2 -2\\right)^2\n",
        "$$\n",
        "\n",
        "and constraint set defined by\n",
        "\n",
        "$$\n",
        "g(x) = \n",
        "\\begin{pmatrix}\n",
        "-x_1 \\\\\n",
        "-x_2 \\\\\n",
        "-1+x_1+x_2 \n",
        "\\end{pmatrix}\n",
        "$$\n",
        "\n",
        "The cost function of problem (CO) is convex. The inequality constraints of problem (CO) define a convex set (whose boundary is a triangle). Problem (CO) is therefore convex and easily solved using CVXPY."
      ],
      "metadata": {
        "id": "AT4CAEe2BG9r"
      }
    },
    {
      "cell_type": "code",
      "source": [
        "# Variables\n",
        "x = cp.Variable(2)\n",
        "# Cost\n",
        "cost = (x[0]-1.5)**2 +(x[1]-2)**2\n",
        "# Constraints\n",
        "constraints = [-x[0] <=0, -x[1] <=0, -1+x[0]+x[1] <=0];\n",
        "# Problem\n",
        "prob = cp.Problem(cp.Minimize(cost),constraints)\n",
        "# Solution\n",
        "prob.solve()\n",
        "\n",
        "# Print result\n",
        "print(\"A solution is x =\",x.value,\"\\n\")\n",
        "if np.linalg.norm(x.value,np.inf)<=alpha:\n",
        "  print(\"Constraints are satisfied\")\n",
        "print(\"\\nThe optimal value is\", prob.value)"
      ],
      "metadata": {
        "colab": {
          "base_uri": "https://localhost:8080/"
        },
        "id": "mwqaNPBwEZmw",
        "outputId": "f7d99b4c-bbbd-47bc-b5d8-5f9c2ca9f2ab"
      },
      "execution_count": null,
      "outputs": [
        {
          "output_type": "stream",
          "name": "stdout",
          "text": [
            "A solution is x = [0.25 0.75] \n",
            "\n",
            "Constraints are satisfied\n",
            "\n",
            "The optimal value is 3.125\n"
          ]
        }
      ]
    },
    {
      "cell_type": "markdown",
      "source": [
        "We could have guessed the the solution by visual inspection."
      ],
      "metadata": {
        "id": "6fpwV4NIEcge"
      }
    },
    {
      "cell_type": "code",
      "source": [
        "# Define function\n",
        "def f(x1, x2):\n",
        "    return (x1-1.5)**2+(x2-2)**2\n",
        "\n",
        "# Define meshgrid\n",
        "x1 = np.linspace(0, 1.5, 50)\n",
        "x2 = np.linspace(0, 1.5, 40)\n",
        "X1, X2 = np.meshgrid(x1, x2)\n",
        "# Contour plot of function\n",
        "fig, ax = plt.subplots() \n",
        "levels = [0.8, 1.6, 2.4, 3.125, 3.75, 4.75];\n",
        "CS = ax.contour(X1, X2, f(X1, X2), levels=levels,colors='black')\n",
        "ax.clabel(CS, inline=1, fontsize=10)\n",
        "# Add constraint set\n",
        "ax.add_patch(Polygon([[0,0],[0,1],[1,0]], \n",
        "                     closed=True,\n",
        "                     color= \"cornflowerblue\",\n",
        "                     fill=True))\n",
        "# Plot solution\n",
        "ax.plot(x.value[0], \n",
        "        x.value[1], \n",
        "        marker=\"o\", \n",
        "        markersize=7.5, \n",
        "        markeredgecolor=\"black\", \n",
        "        markerfacecolor=\"coral\") "
      ],
      "metadata": {
        "colab": {
          "base_uri": "https://localhost:8080/",
          "height": 442
        },
        "id": "eU5seI26243o",
        "outputId": "eed33589-f57e-4c25-bd25-66c29c7fc923"
      },
      "execution_count": 4,
      "outputs": [
        {
          "output_type": "execute_result",
          "data": {
            "text/plain": [
              "[<matplotlib.lines.Line2D at 0x7f71454c2130>]"
            ]
          },
          "metadata": {},
          "execution_count": 4
        },
        {
          "output_type": "display_data",
          "data": {
            "text/plain": [
              "<Figure size 640x480 with 1 Axes>"
            ],
            "image/png": "[encoded data removed]"
          },
          "metadata": {}
        }
      ]
    },
    {
      "cell_type": "markdown",
      "source": [
        "## Exercise 2\n",
        "\n",
        "Let's show that the optimal point $x^{*}$ satisfies the KKT conditions. \n",
        "\n",
        "How to do that? Well, this amounts to showing that the gradient of the cost function $\\nabla f(x)$ is parallel to the normal vector to the side of the triangle on which $x^{*}$ lies...\n",
        "\n",
        "In your investigations, consider the following steps:\n",
        "\n",
        "1.   Compute the value of the multiplier $\\mu^{*}$ that makes the two gradients equal and opposite, i.e.\n",
        "\n",
        "$$\n",
        "\\nabla f(x^{*}) +\\mu^{*} \\nabla g_3(x^{*}) = 0\n",
        "$$\n",
        "\n",
        "2. Are the constraints defined by the inequalities $g_1(x)\\le 0$ and $g_2(x)\\le 0$ active?\n",
        "3. Check whether the multiplier $\\mu^{*}$ is actually the correct one using CVX. [Hint: Check the value of each constraints[i].dual_value]\n",
        "  "
      ],
      "metadata": {
        "id": "cTlbUzLxEjec"
      }
    },
    {
      "cell_type": "code",
      "source": [
        "############################ Your code goes here ###############################\n",
        "\n",
        "print(\"optimal (g_3(x) <= 0) dual variable\", constraints[2].dual_value)\n",
        "\n",
        "################################################################################"
      ],
      "metadata": {
        "id": "aam2heU836ve",
        "colab": {
          "base_uri": "https://localhost:8080/"
        },
        "outputId": "01f01f1c-f102-4095-966d-54352496c45f"
      },
      "execution_count": null,
      "outputs": [
        {
          "output_type": "stream",
          "name": "stdout",
          "text": [
            "optimal (g_3(x) <= 0) dual variable 2.5\n"
          ]
        }
      ]
    },
    {
      "cell_type": "code",
      "source": [],
      "metadata": {
        "id": "0ZphNUARxTMr"
      },
      "execution_count": null,
      "outputs": []
    }
  ]
}