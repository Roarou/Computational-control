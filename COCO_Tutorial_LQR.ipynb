{
  "nbformat": 4,
  "nbformat_minor": 0,
  "metadata": {
    "colab": {
      "provenance": [],
      "include_colab_link": true
    },
    "kernelspec": {
      "name": "python3",
      "display_name": "Python 3"
    },
    "language_info": {
      "name": "python"
    }
  },
  "cells": [
    {
      "cell_type": "markdown",
      "metadata": {
        "id": "view-in-github",
        "colab_type": "text"
      },
      "source": [
        "<a href=\"https://colab.research.google.com/github/Roarou/Computational-control/blob/main/COCO_Tutorial_LQR.ipynb\" target=\"_parent\"><img src=\"https://colab.research.google.com/assets/colab-badge.svg\" alt=\"Open In Colab\"/></a>"
      ]
    },
    {
      "cell_type": "code",
      "execution_count": 1,
      "metadata": {
        "id": "hTc8J1m9FHpx"
      },
      "outputs": [],
      "source": [
        "import numpy as np\n",
        "from scipy import linalg as la\n",
        "from matplotlib import pyplot as plt\n",
        "from typing import Tuple"
      ]
    },
    {
      "cell_type": "markdown",
      "source": [
        "Define the system matrices"
      ],
      "metadata": {
        "id": "ZrFd1WC9Ffp1"
      }
    },
    {
      "cell_type": "code",
      "source": [
        "n_x, n_u = 2, 2\n",
        "\n",
        "A = np.array([[2, 0],[0, 3]])\n",
        "B = np.eye(n_x)\n",
        "\n",
        "\n",
        "Q = np.array([[1, 0], [0, 0]])\n",
        "R = np.eye(n_u)\n",
        "\n",
        "initial_condition = np.random.randn(n_x)"
      ],
      "metadata": {
        "id": "QRzgMU1-FVOa"
      },
      "execution_count": 2,
      "outputs": []
    },
    {
      "cell_type": "markdown",
      "source": [
        "Simulate system with a random initial condition and no input ($K=0$): Clearly the origin of the system is unstable. \n"
      ],
      "metadata": {
        "id": "S11jhQz7F5mD"
      }
    },
    {
      "cell_type": "code",
      "source": [
        "def simulate(horizon: int, initial_condition: np.ndarray, control_gain: np.ndarray or None=None) -> Tuple[np.ndarray, float]:\n",
        "  if control_gain is None:\n",
        "    control_gain = np.zeros((n_x, n_u))\n",
        "  assert control_gain.shape == (n_x, n_u), 'Check shape of the control gain.'\n",
        "  assert initial_condition.shape == (n_x, ), 'Check shape of the initial condition.'\n",
        "  x = np.nan*np.ones((n_x, horizon+1)) \n",
        "  x[:, 0] = initial_condition\n",
        "  print(x[:, 0])\n",
        "  cost = 0.0\n",
        "  for t in range(horizon):\n",
        "    u_t = np.matmul(control_gain, x[:, t])\n",
        "    x[:, t+1] = np.matmul(A, x[:, t]) + np.matmul(B, u_t)\n",
        "    cost += np.matmul(x[:, t].T, np.matmul(Q, x[:, t])) + np.matmul(u_t.T, np.matmul(R, u_t))\n",
        "  cost += np.matmul(x[:, -1].T, np.matmul(Q, x[:, -1]))\n",
        "  return x, float(cost)\n",
        "\n",
        "def plot_trajectory(data:np.ndarray) -> None:\n",
        "  # Plot\n",
        "  plt.plot(x.T)\n",
        "  plt.xlabel('Iteration')\n",
        "  plt.ylabel('State')\n",
        "  plt.xlim((0, x.shape[1]-1))\n",
        "  plt.show()\n",
        "\n",
        "x, cost = simulate(horizon=20, initial_condition=initial_condition, control_gain=None)\n",
        "\n",
        "plot_trajectory(x)\n",
        "\n",
        "print('The cost is ' + str(cost) + '.')\n"
      ],
      "metadata": {
        "id": "EuoCuXXnGEws",
        "colab": {
          "base_uri": "https://localhost:8080/",
          "height": 499
        },
        "outputId": "9fe5a1c8-6660-4fb5-ec1e-935173eb8ad1"
      },
      "execution_count": 6,
      "outputs": [
        {
          "output_type": "stream",
          "name": "stdout",
          "text": [
            "[1.56089987 0.91200274]\n"
          ]
        },
        {
          "output_type": "display_data",
          "data": {
            "text/plain": [
              "<Figure size 640x480 with 1 Axes>"
            ],
            "image/png": "[encoded data removed]"
          },
          "metadata": {}
        },
        {
          "output_type": "stream",
          "name": "stdout",
          "text": [
            "The cost is 3571812477186.243.\n"
          ]
        }
      ]
    },
    {
      "cell_type": "markdown",
      "source": [
        "Compute LQR iteration: The LQR controller does not stabilize the syste,"
      ],
      "metadata": {
        "id": "giBwpxyzYH2P"
      }
    },
    {
      "cell_type": "code",
      "source": [
        "def P_new_lqr(P_old: np.ndarray) -> np.ndarray:\n",
        "  P = Q + \\\n",
        "    np.matmul(np.matmul(A.T, P_old), A) - \\\n",
        "    np.matmul(np.matmul(np.matmul(np.matmul(A.T, P_old), B),\n",
        "                        np.linalg.inv(R + np.matmul(np.matmul(B.T, P_old), B))),\n",
        "              np.matmul(B.T, np.matmul(P_old, A)))\n",
        "  return P\n",
        "\n",
        "def get_controller_from_P(P: np.ndarray) -> np.ndarray:\n",
        "  K = - np.matmul(np.linalg.inv(R + np.matmul(np.matmul(B.T, P), B)),\n",
        "                  np.matmul(B.T, np.matmul(P, A)))\n",
        "  return K\n",
        "  \n",
        "def lqr_iteration(initial_condition: np.ndarray, iterations: int) -> Tuple[np.ndarray, np.ndarray]:\n",
        "  assert initial_condition.shape == (n_x, n_x), 'Check shape of the initial condition.'\n",
        "  P = initial_condition\n",
        "  for _ in range(iterations):\n",
        "    P = P_new_lqr(P)\n",
        "  return (P, get_controller_from_P(P))\n",
        "\n",
        "P_inf, K_inf = lqr_iteration(initial_condition=np.zeros((n_x, n_x)), iterations=100)\n",
        "\n",
        "x, cost = simulate(horizon=20, initial_condition=initial_condition, control_gain=K_inf)\n",
        "\n",
        "plot_trajectory(x)\n",
        "\n",
        "print('The cost is ' + str(cost) + '.')\n"
      ],
      "metadata": {
        "colab": {
          "base_uri": "https://localhost:8080/",
          "height": 499
        },
        "id": "iK6VrzbTZUf7",
        "outputId": "adab0d8c-05ca-4859-fffb-91daf18f30fb"
      },
      "execution_count": 8,
      "outputs": [
        {
          "output_type": "stream",
          "name": "stdout",
          "text": [
            "[1.56089987 0.91200274]\n"
          ]
        },
        {
          "output_type": "display_data",
          "data": {
            "text/plain": [
              "<Figure size 640x480 with 1 Axes>"
            ],
            "image/png": "[encoded data removed]"
          },
          "metadata": {}
        },
        {
          "output_type": "stream",
          "name": "stdout",
          "text": [
            "The cost is 10.32079157283507.\n"
          ]
        }
      ]
    },
    {
      "cell_type": "markdown",
      "source": [
        "Solve now the DARE.\n"
      ],
      "metadata": {
        "id": "rI2Iy7GddQdR"
      }
    },
    {
      "cell_type": "code",
      "source": [
        "P_inf_are = la.solve_discrete_are(a=A, b=B, q=Q, r=R)\n",
        "K_inf_are = get_controller_from_P(P_inf_are)\n",
        "\n",
        "P_inf_nonzero, K_inf_nonzero = lqr_iteration(initial_condition=np.eye(n_x), iterations=100)\n",
        "\n",
        "print('P_inf via ARE:')\n",
        "print(P_inf_are)\n",
        "print(K_inf_are)\n",
        "\n",
        "print('P_inf via iterations (non-zero initial condition):')\n",
        "print(P_inf_nonzero)\n",
        "\n",
        "print('P_inf via iterations (zero initial condition):')\n",
        "print(P_inf)\n"
      ],
      "metadata": {
        "colab": {
          "base_uri": "https://localhost:8080/"
        },
        "id": "OKRSAm5-dVmG",
        "outputId": "98fc7ec1-a3af-456b-90e2-e7a4f97120c9"
      },
      "execution_count": 9,
      "outputs": [
        {
          "output_type": "stream",
          "name": "stdout",
          "text": [
            "P_inf via ARE:\n",
            "[[4.23606798 0.        ]\n",
            " [0.         8.        ]]\n",
            "[[-1.61803399 -0.        ]\n",
            " [-0.         -2.66666667]]\n",
            "P_inf via iterations (non-zero initial condition):\n",
            "[[4.23606798 0.        ]\n",
            " [0.         8.        ]]\n",
            "P_inf via iterations (zero initial condition):\n",
            "[[4.23606798 0.        ]\n",
            " [0.         0.        ]]\n"
          ]
        }
      ]
    },
    {
      "cell_type": "markdown",
      "source": [
        "Show now that the new controller indeed stabilizes the system. "
      ],
      "metadata": {
        "id": "iUpdSdh4e3VY"
      }
    },
    {
      "cell_type": "code",
      "source": [
        "x, cost = simulate(horizon=20, initial_condition=initial_condition, control_gain=K_inf_are)\n",
        "\n",
        "plot_trajectory(x)\n",
        "\n",
        "print('The cost is ' + str(cost) + '.')"
      ],
      "metadata": {
        "colab": {
          "base_uri": "https://localhost:8080/",
          "height": 296
        },
        "id": "m7scXYMaeXwc",
        "outputId": "e5a13aca-fa84-41db-fa84-15c181280ff7"
      },
      "execution_count": null,
      "outputs": [
        {
          "output_type": "display_data",
          "data": {
            "text/plain": [
              "<Figure size 432x288 with 1 Axes>"
            ],
            "image/png": "[encoded data removed]"
          },
          "metadata": {
            "needs_background": "light"
          }
        },
        {
          "output_type": "stream",
          "name": "stdout",
          "text": [
            "The cost is 5.742866979658208.\n"
          ]
        }
      ]
    },
    {
      "cell_type": "markdown",
      "source": [
        "Finally, any other stabilizing controller yields larger cost. We use that the system is decoupled and so $K$ is diagonal. "
      ],
      "metadata": {
        "id": "Vxy2E0JAfFW6"
      }
    },
    {
      "cell_type": "code",
      "source": [
        "k_vec = np.linspace(start=-1-A[1, 1]-0.1, stop=1-A[1, 1]+0.1, num=50)\n",
        "cost_vec = []\n",
        "\n",
        "for k in k_vec:  # range of controllers which are stabilizing\n",
        "  _, cost = simulate(horizon=2000, initial_condition=initial_condition, control_gain=np.array([[K_inf_are[0, 0],0],[0, k]]))\n",
        "  cost_vec.append(cost)\n",
        "\n",
        "plt.plot(k_vec, cost_vec)\n",
        "plt.axvline(x=K_inf_are[1, 1], color='red')\n",
        "plt.ylabel('Cost')\n",
        "plt.xlabel('k')\n",
        "plt.ylim((0, 20))\n",
        "plt.show()"
      ],
      "metadata": {
        "colab": {
          "base_uri": "https://localhost:8080/",
          "height": 283
        },
        "id": "SbVrnK0mfNIW",
        "outputId": "5738e68f-2abe-45ec-feb3-76ce00dc4882"
      },
      "execution_count": null,
      "outputs": [
        {
          "output_type": "display_data",
          "data": {
            "text/plain": [
              "<Figure size 432x288 with 1 Axes>"
            ],
            "image/png": "[encoded data removed]"
          },
          "metadata": {
            "needs_background": "light"
          }
        }
      ]
    },
    {
      "cell_type": "code",
      "source": [],
      "metadata": {
        "id": "LGA88hjEjSk1"
      },
      "execution_count": null,
      "outputs": []
    }
  ]
}