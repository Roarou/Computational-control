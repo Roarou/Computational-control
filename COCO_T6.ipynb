{
  "cells": [
    {
      "cell_type": "markdown",
      "metadata": {
        "id": "view-in-github",
        "colab_type": "text"
      },
      "source": [
        "<a href=\"https://colab.research.google.com/github/Roarou/Computational-control/blob/main/COCO_T6.ipynb\" target=\"_parent\"><img src=\"https://colab.research.google.com/assets/colab-badge.svg\" alt=\"Open In Colab\"/></a>"
      ]
    },
    {
      "cell_type": "markdown",
      "id": "e78a925e",
      "metadata": {
        "id": "e78a925e"
      },
      "source": [
        "# Computational control - Tutorial 6\n",
        "\n",
        "We illustrate how to identify a linear time-invariant system via its impulse response using the Kalman-Ho algorithm. "
      ]
    },
    {
      "cell_type": "markdown",
      "id": "0c4a3c4f",
      "metadata": {
        "id": "0c4a3c4f"
      },
      "source": [
        "### Package imports"
      ]
    },
    {
      "cell_type": "code",
      "execution_count": 1,
      "id": "c215bfbb",
      "metadata": {
        "id": "c215bfbb"
      },
      "outputs": [],
      "source": [
        "import numpy  as np                        # For linear algebra\n",
        "import matplotlib.pyplot as plt            # For plots\n",
        "np.random.seed(1)                          # Generate random seed\n",
        "np.set_printoptions(precision=1)           # Set nice printing format"
      ]
    },
    {
      "cell_type": "markdown",
      "id": "62618b39",
      "metadata": {
        "id": "62618b39"
      },
      "source": [
        "### Problem setup\n",
        "\n",
        "Consider the linear time-invariant system described by the equations\n",
        "\n",
        "$$\n",
        "\\begin{align}\n",
        "x_{t+1} &= A x_t + B u_t\\\\\n",
        "y_{t}   &= C x_t + D u_t\n",
        "\\end{align}\n",
        "$$\n",
        "\n",
        "with $x_t \\in \\mathbb{R}^2$, $u_t \\in \\mathbb{R}^2$, $y_t \\in \\mathbb{R}^2$  and constant matrices $A \\in \\mathbb{R}^{2\\times 2}$, $B \\in \\mathbb{R}^{2\\times 2}$, $C \\in \\mathbb{R}^{2\\times 2}$, and $D \\in \\mathbb{R}^{2\\times 2}$ defined as\n",
        "\n",
        "$$\n",
        "\\begin{align}\n",
        "A = \n",
        "\\begin{bmatrix}\n",
        "1 & 0 \\\\\n",
        "0 & 2\n",
        "\\end{bmatrix}, \\quad\n",
        "B =  I , \\quad\n",
        "C =  I, \\quad\n",
        "D = 0 .\n",
        "\\end{align}\n",
        "$$\n"
      ]
    },
    {
      "cell_type": "code",
      "execution_count": 2,
      "id": "f7691927",
      "metadata": {
        "id": "f7691927"
      },
      "outputs": [],
      "source": [
        "# System parameters   \n",
        "A = np.array([[1.0, 0.0],                  # A - State-space matrix                      \n",
        "              [0.0, 2.0]])                 # \n",
        "B = np.eye(2)                              # B - State-space matrix                      \n",
        "C = np.eye(2)                              # C - State-space matrix \n",
        "D = np.zeros([2,2])                        # D - State-space matrix \n",
        "                                  \n",
        "# Integer invariants\n",
        "n = A.shape[0]                             # n = number of states\n",
        "m = B.shape[1]                             # m = number of inputs\n",
        "p = C.shape[0]                             # p = number of output"
      ]
    },
    {
      "cell_type": "markdown",
      "id": "9c74ce33",
      "metadata": {
        "id": "9c74ce33"
      },
      "source": [
        "### Data collection\n",
        "\n",
        "The Kalman-Ho algorithm requires a sequence of _Markov parameters_\n",
        "\n",
        "$$\n",
        " G_t = \n",
        "\\left \\{\n",
        "\\begin{array}[rcl] \n",
        "\\, D &\\text{ for } t=0\\\\ \n",
        "CA^{t-1}B &\\text{ for } t=1, 2, \\ldots, T\n",
        "\\end{array}\n",
        "\\right.\n",
        "$$\n",
        "\n",
        "to determine the system matrices. \n",
        "\n",
        "\n",
        "The sequence can be obtained directly from the response of the system to a _unit impulse_ of length $T$, defined as \n",
        "\n",
        "$$\n",
        "u_t = \n",
        "\\left \\{\n",
        "\\begin{array}[rcl] \n",
        "\\, I &\\text{ for } t=0\\\\ \n",
        "\\mathbb{0} &\\text{ for } t=1, 2, \\ldots, T\n",
        "\\end{array}\n",
        "\\right.\n",
        "$$\n",
        "\n",
        "starting from zero initial conditions. In the following script, we select $T=8.$\n",
        "\n"
      ]
    },
    {
      "cell_type": "code",
      "execution_count": 10,
      "id": "cab53974",
      "metadata": {
        "id": "cab53974",
        "colab": {
          "base_uri": "https://localhost:8080/"
        },
        "outputId": "c524f1bd-d969-404a-ceee-d5994e24c834"
      },
      "outputs": [
        {
          "output_type": "stream",
          "name": "stdout",
          "text": [
            "Markov parameters:\n",
            "\n",
            "[[1. 0.]\n",
            " [0. 1.]]\n",
            "[[1. 0.]\n",
            " [0. 2.]]\n",
            "[[1. 0.]\n",
            " [0. 4.]]\n",
            "[[1. 0.]\n",
            " [0. 8.]]\n",
            "[[ 1.  0.]\n",
            " [ 0. 16.]]\n",
            "[[ 1.  0.]\n",
            " [ 0. 32.]]\n",
            "[[ 1.  0.]\n",
            " [ 0. 64.]]\n",
            "[[  1.   0.]\n",
            " [  0. 128.]]\n"
          ]
        }
      ],
      "source": [
        "# Data collection parameters\n",
        "T = 8                                            # Length of unit impulse \n",
        "impulse = [np.eye(m)]+[np.zeros((m,m))]*T  # Unit impulse (of length T+1)                                           \n",
        "x = np.zeros((n,n))                              # Initial condition (zero)\n",
        "\n",
        "# Data collection\n",
        "impulse_response = []                            # Markov parameters                        \n",
        "\n",
        "##################################################\n",
        "#           Implement the following              #\n",
        "# 1. Collect data from the system using \"impulse\"#\n",
        "# 2. Estimate the D term                         #\n",
        "# 3. Define a list of Markov parameters          #\n",
        "# 3. Define a list of shifted Markov parameters  #  \n",
        "##################################################\n",
        "\n",
        "# Data collection\n",
        "impulse_response = []                            # Markov parameters                        \n",
        "for t in range(T+1): \n",
        "    u = impulse[t]                               # Input\n",
        "    y = C@x+D@u                                  # Output\n",
        "    x = A@x+B@u                                  # State update  \n",
        "    impulse_response.append(y)                   # Save output\n",
        "\n",
        "D_estimate = impulse_response.pop(0)\n",
        "\n",
        "markov_parameters = impulse_response[:-1]\n",
        "\n",
        "markov_parameters_shifted = impulse_response[1:]\n",
        "\n",
        "# Print results\n",
        "print(\"Markov parameters:\\n\")                    # Print Markov parameters\n",
        "print(*impulse_response, sep='\\n')               #  "
      ]
    },
    {
      "cell_type": "markdown",
      "source": [
        "### Hankel matrices\n",
        "\n",
        "The Kalman-Ho algorithm also requires a Hankel matrix and a shifted Hankel matrix defined using the sequence of Markov parameters.\n",
        "\n",
        "\n",
        "The _Hankel matrix_ is defined as \n",
        "\n",
        "$$\n",
        "{H}_{k,\\ell}\n",
        "=\n",
        "\\begin{bmatrix}\n",
        "G_{1}   & G_{2} & \\cdots & G_{\\ell} \\\\\n",
        "G_{2}   & G_{3} & \\cdots & G_{\\ell+1} \\\\\n",
        "\\vdots  & \\vdots  & \\ddots & \\vdots    \\\\\n",
        "G_{k}   & G_{k+1} & \\cdots & G_{k+\\ell-1} \n",
        "\\end{bmatrix}\n",
        "$$\n",
        "\n",
        "and the _shifted Hankel matrix_ is defined as \n",
        "\n",
        "$$\n",
        "{H}_{k,\\ell}^{\\uparrow}\n",
        "=\n",
        "\\begin{bmatrix}\n",
        "G_{2}   & G_{3} & \\cdots & G_{\\ell+1} \\\\\n",
        "G_{3}   & G_{4} & \\cdots & G_{\\ell+2} \\\\\n",
        "\\vdots  & \\vdots  & \\ddots & \\vdots    \\\\\n",
        "G_{k+1}   & G_{k+2} & \\cdots & G_{k+\\ell} \n",
        "\\end{bmatrix}\n",
        "$$\n",
        "\n",
        "where $k$ and $\\ell$ are positive integers such that $k+\\ell\\le T.$\n",
        "\n",
        "In this script, we select $k=3$ and $\\ell=5$"
      ],
      "metadata": {
        "id": "bXhbITC7KZQk"
      },
      "id": "bXhbITC7KZQk"
    },
    {
      "cell_type": "code",
      "source": [
        "# Hankel matrices - parameters\n",
        "k = 3                                            # Number of block rows\n",
        "l = 5                                            # Number of block columns\n",
        "\n",
        "# Hankel matrix \n",
        "if (k+l<T+1):\n",
        "    Hankel = np.empty((p*k,m*l)) \n",
        "    for i in range(k):\n",
        "      for j in range(l):\n",
        "        Hankel[i*p:(i+1)*p,\n",
        "               j*m:(j+1)*m] = \\\n",
        "                markov_parameters[i+j]   \n",
        "else:\n",
        "    print(\"Need more data\")                      # Need more data\n",
        "    \n",
        "print(\"Hankel = \\n\",Hankel)                      # Print Markov parameters      \n",
        "\n",
        "# Shifted Hankel matrix\n",
        "if (k+l<T+1):\n",
        "    Hankel_shifted = np.empty((p*k,m*l)) \n",
        "    for i in range(k):\n",
        "      for j in range(l):\n",
        "        Hankel_shifted[i*p:(i+1)*p,\n",
        "                 j*m:(j+1)*m] = \\\n",
        "                 markov_parameters_shifted[i+j]  # Define shifted Hankel    \n",
        "\n",
        "# Shifted Hankel matrix\n",
        "if (k+l<T+1):\n",
        "    Hankel_shifted = np.empty((p*k,m*l)) \n",
        "##################################################\n",
        "#     Construct the shifted Hankel matrix here   #   \n",
        "##################################################\n",
        "\n",
        "print(\"Hankel_shifted = \\n\",Hankel_shifted)      # Print Markov parameters      "
      ],
      "metadata": {
        "id": "ueBSZOqHKfxg",
        "colab": {
          "base_uri": "https://localhost:8080/"
        },
        "outputId": "b52790e3-e703-44cd-be51-a5e0fa4582ab"
      },
      "id": "ueBSZOqHKfxg",
      "execution_count": 11,
      "outputs": [
        {
          "output_type": "stream",
          "name": "stdout",
          "text": [
            "Hankel = \n",
            " [[ 1.  0.  1.  0.  1.  0.  1.  0.  1.  0.]\n",
            " [ 0.  1.  0.  2.  0.  4.  0.  8.  0. 16.]\n",
            " [ 1.  0.  1.  0.  1.  0.  1.  0.  1.  0.]\n",
            " [ 0.  2.  0.  4.  0.  8.  0. 16.  0. 32.]\n",
            " [ 1.  0.  1.  0.  1.  0.  1.  0.  1.  0.]\n",
            " [ 0.  4.  0.  8.  0. 16.  0. 32.  0. 64.]]\n",
            "Hankel_shifted = \n",
            " [[1.7e-316 0.0e+000 1.3e-316 6.9e-310 1.9e-152 9.6e+199 6.0e-154 9.9e+247\n",
            "  4.5e-091 2.4e-154]\n",
            " [9.1e+276 9.8e+199 4.9e+252 2.3e+161 9.1e+223 3.0e-152 9.1e+242 6.0e-154\n",
            "  8.4e+252 1.9e-153]\n",
            " [4.4e+252 9.8e+199 6.0e-154 6.4e+029 8.4e+252 2.2e+068 6.0e-154 2.4e-154\n",
            "  1.1e+155 8.4e+252]\n",
            " [9.8e-153 5.3e+180 3.2e+180 4.8e+180 1.7e+243 2.7e-260 7.7e+218 6.0e-154\n",
            "  4.5e-091 7.0e-009]\n",
            " [3.7e+233 1.4e+131 8.5e-096 6.0e-154 2.4e+232 9.1e+223 6.0e-154 6.0e-154\n",
            "  1.0e-113 2.0e-062]\n",
            " [2.4e-154 7.1e+159 9.8e+199 2.0e-062 1.9e-009 6.0e-154 1.4e+131 9.0e-096\n",
            "  6.0e-154 1.6e-322]]\n"
          ]
        }
      ]
    },
    {
      "cell_type": "markdown",
      "source": [
        "### State space dimension\n",
        "\n",
        "The Kalman-Ho algorithm requires an estimate of the dimension of the system. \n",
        "\n",
        "This can be retrieved directly from the rank of the Hankel matrix."
      ],
      "metadata": {
        "id": "dE3t1NEO2HBC"
      },
      "id": "dE3t1NEO2HBC"
    },
    {
      "cell_type": "code",
      "source": [
        "# Estimate state space dimension\n",
        "N = np.linalg.matrix_rank(Hankel)\n",
        "print(\"rank(Hankel) = \",N,\"\\n\")"
      ],
      "metadata": {
        "id": "pMBPBePe2EqI",
        "outputId": "b70f1334-6cf3-4e81-8130-cd42514c49de",
        "colab": {
          "base_uri": "https://localhost:8080/"
        }
      },
      "id": "pMBPBePe2EqI",
      "execution_count": 12,
      "outputs": [
        {
          "output_type": "stream",
          "name": "stdout",
          "text": [
            "rank(Hankel) =  2 \n",
            "\n"
          ]
        }
      ]
    },
    {
      "cell_type": "markdown",
      "source": [
        "### Kalman-Ho algorithm\n",
        "\n",
        "We now have all the main ingredients to implement the Kalman-Ho algorithm.\n",
        "\n",
        "Recall that the algorithm involves the following steps:\n",
        "\n",
        "- Computing a thin SVD of the Hankel matrix\n",
        " $${H}_{k,\\ell} = U_1 \\Sigma_1 V_1^{\\mathsf{T}}.$$\n",
        "- Defining the observability matrix\n",
        " $$\\mathbf{O}_k = U_1 \\Sigma_1^{1/2} $$\n",
        " and the controllability matrix\n",
        " $$\\mathbf{C}_\\ell = \\Sigma_1^{1/2} V_1^{\\mathsf{T}}.$$\n",
        "- Computing the system matrices as\n",
        "$$\n",
        "\\begin{align}\n",
        "A &= \\mathbf{O}_k^{\\dagger}{H}_{k,\\ell}^{\\uparrow}\\mathbf{C}_\\ell^{\\dagger} \\\\\n",
        "B &= \\text{first } m \\text{ columns of } \\mathbf{C}_\\ell \\\\\n",
        "C &= \\text{first } p \\text{ rows of } \\mathbf{O}_k \\\\\n",
        "D &= G_0 \\\\\n",
        "\\end{align}\n",
        "$$\n",
        "\n",
        "where $M^{\\dagger}$ is the Moore-Penrose inverse of $M$.\n",
        "\n",
        "\n",
        "\n",
        "\n",
        "\n",
        "\n"
      ],
      "metadata": {
        "id": "ega2rSGrLudu"
      },
      "id": "ega2rSGrLudu"
    },
    {
      "cell_type": "code",
      "source": [
        "## Kalman-Ho algorithm\n",
        "\n",
        "# Compute SVD (rounding to zero)\n",
        "U = np.linalg.svd(Hankel)[0].round(decimals=12)[:,0:N]\n",
        "Sigma = np.linalg.svd(Hankel)[1].round(decimals=12)[0:N]\n",
        "V_T = np.linalg.svd(Hankel)[2].round(decimals=12)[0:N,:]\n",
        "\n",
        "# Compute observability and controllability matrices\n",
        "observability = U@np.diag(np.sqrt(Sigma))\n",
        "controllability = np.diag(np.sqrt(Sigma))@V_T\n",
        "\n",
        "# Compute A,B,C matrices\n",
        "A_estimate = (np.linalg.pinv(observability)@ Hankel_shifted @ np.linalg.pinv(controllability)).round(decimals=12)\n",
        "B_estimate = controllability[:,0:m]\n",
        "C_estimate = observability[0:p,:]\n",
        "\n"
      ],
      "metadata": {
        "id": "LHCy0s3WL_hK"
      },
      "id": "LHCy0s3WL_hK",
      "execution_count": 13,
      "outputs": []
    },
    {
      "cell_type": "code",
      "source": [
        "print(\"A realization of the system is:\\n\")\n",
        "print(\"A = \\n\",A_estimate,\"\\n\")            # A - estimate\n",
        "print(\"B = \\n\",B_estimate,\"\\n\")            # B - estimate\n",
        "print(\"C = \\n\",C_estimate,\"\\n\")            # C\n",
        "print(\"D = \\n\",D_estimate,\"\\n\")       "
      ],
      "metadata": {
        "id": "urgvCU5_x3b-",
        "outputId": "612b11b3-cadc-4987-f539-515ee0f4184e",
        "colab": {
          "base_uri": "https://localhost:8080/"
        }
      },
      "id": "urgvCU5_x3b-",
      "execution_count": 14,
      "outputs": [
        {
          "output_type": "stream",
          "name": "stdout",
          "text": [
            "A realization of the system is:\n",
            "\n",
            "A = \n",
            " [[ 1.4e+196 -4.9e+274]\n",
            " [-2.3e+251 -1.7e+260]] \n",
            "\n",
            "B = \n",
            " [[ 0.   0.5]\n",
            " [-0.9  0. ]] \n",
            "\n",
            "C = \n",
            " [[ 0.  -1.1]\n",
            " [ 2.   0. ]] \n",
            "\n",
            "D = \n",
            " [[0. 0.]\n",
            " [0. 0.]] \n",
            "\n"
          ]
        }
      ]
    }
  ],
  "metadata": {
    "kernelspec": {
      "display_name": "Python 3 (ipykernel)",
      "language": "python",
      "name": "python3"
    },
    "language_info": {
      "codemirror_mode": {
        "name": "ipython",
        "version": 3
      },
      "file_extension": ".py",
      "mimetype": "text/x-python",
      "name": "python",
      "nbconvert_exporter": "python",
      "pygments_lexer": "ipython3",
      "version": "3.9.7"
    },
    "colab": {
      "provenance": [],
      "include_colab_link": true
    }
  },
  "nbformat": 4,
  "nbformat_minor": 5
}